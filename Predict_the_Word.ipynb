{
 "cells": [
  {
   "cell_type": "markdown",
   "metadata": {},
   "source": [
    "## LSTM Network to Generate Text for Alice in Wonderland"
   ]
  },
  {
   "cell_type": "code",
   "execution_count": 1,
   "metadata": {},
   "outputs": [
    {
     "name": "stderr",
     "output_type": "stream",
     "text": [
      "Using TensorFlow backend.\n"
     ]
    }
   ],
   "source": [
    "import numpy\n",
    "import pandas as pd\n",
    "from keras.models import Sequential\n",
    "from keras.layers import Dense\n",
    "from keras.layers import Dropout\n",
    "from keras.layers import LSTM\n",
    "from keras.callbacks import ModelCheckpoint, CSVLogger\n",
    "from keras.utils import np_utils\n",
    "import sys\n",
    "import matplotlib.pyplot as plt\n",
    "#import string\n",
    "#string.printable"
   ]
  },
  {
   "cell_type": "code",
   "execution_count": 23,
   "metadata": {},
   "outputs": [],
   "source": [
    "#import os\n",
    "#os.getcwd()"
   ]
  },
  {
   "cell_type": "code",
   "execution_count": 3,
   "metadata": {},
   "outputs": [],
   "source": [
    "# load ascii text and convert to lowercase\n",
    "#filename = \"MobyDick.txt\"\n",
    "filename = \"wonderland.txt\"\n",
    "raw_text = open(filename).read()\n",
    "raw_text = raw_text.lower()"
   ]
  },
  {
   "cell_type": "code",
   "execution_count": 4,
   "metadata": {},
   "outputs": [
    {
     "data": {
      "text/plain": [
       "'alice’s adventures in wonderland\\n\\nlewis carroll\\n\\nthe millennium fulcrum edition 3.0\\n\\n\\n\\nchapter i. down the rabbit-hole\\n\\nalice was beginning to get very tired of sitting by her sister on the\\nbank, and of having nothing to do: once or twice she had peeped into the\\nbook her sister was reading, but it had no pictures or conversations in\\nit, ‘and what is the use of a book,’ thought alice ‘without pictures or\\nconversations?’\\n\\nso she was considering in her own mind (as well as she could, for the\\nhot day made her feel very sleepy and stupid), whether the pleasure\\nof making a daisy-chain would be worth the trouble of getting up and\\npicking the daisies, when suddenly a white rabbit with pink eyes ran\\nclose by her.\\n\\nthere was nothing so very remarkable in that; nor did alice think it so\\nvery much out of the way to hear the rabbit say to itself, ‘oh dear!\\noh dear! i shall be late!’ (when she thought it over afterwards, it\\noccurred to her that she ought to have wondered at this, but at the time\\nit '"
      ]
     },
     "execution_count": 4,
     "metadata": {},
     "output_type": "execute_result"
    }
   ],
   "source": [
    "raw_text[:1000]"
   ]
  },
  {
   "cell_type": "code",
   "execution_count": 5,
   "metadata": {},
   "outputs": [],
   "source": [
    "# Function for cleaning the text\n",
    "import re\n",
    "def clean_text(text): \n",
    "        ''' \n",
    "        Utility function to clean tweet text by removing links, \n",
    "        special characters using simple regex statements. \n",
    "        '''\n",
    "        return ' '.join(re.sub(\"(@[A-Za-z0-9]+)|([^0-9A-Za-z \\t]) |(\\w+:\\/\\/\\S+)\", \" \", text).split())\n",
    "    "
   ]
  },
  {
   "cell_type": "code",
   "execution_count": 6,
   "metadata": {},
   "outputs": [
    {
     "data": {
      "text/plain": [
       "'alice’s adventures in wonderland lewis carroll the millennium fulcrum edition 3.0 chapter i down the rabbit-hole alice was beginning to get very tired of sitting by her sister on the bank and of having nothing to do once or twice she had peeped into the book her sister was reading but it had no pictures or conversations in it ‘and what is the use of a book, thought alice ‘without pictures or conversations?’ so she was considering in her own mind (as well as she could for the hot day made her feel very sleepy and stupid) whether the pleasure of making a daisy-chain would be worth the trouble of getting up and picking the daisies when suddenly a white rabbit with pink eyes ran close by her. there was nothing so very remarkable in that nor did alice think it so very much out of the way to hear the rabbit say to itself ‘oh dear! oh dear i shall be late! (when she thought it over afterwards it occurred to her that she ought to have wondered at this but at the time it all seemed quite natura'"
      ]
     },
     "execution_count": 6,
     "metadata": {},
     "output_type": "execute_result"
    }
   ],
   "source": [
    "raw_text = clean_text(raw_text)\n",
    "raw_text[:1000]"
   ]
  },
  {
   "cell_type": "code",
   "execution_count": 7,
   "metadata": {},
   "outputs": [],
   "source": [
    "# create a unique mapping of chars to integers as well as their reverse\n",
    "chars = sorted(list(set(raw_text)))\n",
    "char_to_int = dict((c, i) for i, c in enumerate(chars))\n",
    "int_to_char = dict((i, c) for i, c in enumerate(chars))"
   ]
  },
  {
   "cell_type": "code",
   "execution_count": 8,
   "metadata": {},
   "outputs": [
    {
     "name": "stdout",
     "output_type": "stream",
     "text": [
      "Total Characters:    138936\n",
      "Total Vocababulary:  46\n",
      "[' ', '!', '(', ')', '*', ',', '-', '.', '0', '3', ':', ';', '?', '[', ']', '_', 'a', 'b', 'c', 'd', 'e', 'f', 'g', 'h', 'i', 'j', 'k', 'l', 'm', 'n', 'o', 'p', 'q', 'r', 's', 't', 'u', 'v', 'w', 'x', 'y', 'z', '‘', '’', '“', '”']\n"
     ]
    }
   ],
   "source": [
    "# summarize the loaded data\n",
    "n_chars = len(raw_text)\n",
    "n_vocab = len(chars)\n",
    "print(\"Total Characters:   \", n_chars)\n",
    "print(\"Total Vocababulary: \", n_vocab)\n",
    "print(chars)"
   ]
  },
  {
   "cell_type": "code",
   "execution_count": 9,
   "metadata": {
    "scrolled": true
   },
   "outputs": [
    {
     "name": "stdout",
     "output_type": "stream",
     "text": [
      "Total Patterns:  138836\n"
     ]
    }
   ],
   "source": [
    "# prepare the dataset of input to output pairs encoded as integers\n",
    "seq_length = 100\n",
    "dataX = []\n",
    "dataY = []\n",
    "for i in range(0, n_chars - seq_length, 1):\n",
    "    seq_in = raw_text[i:i + seq_length]\n",
    "    seq_out = raw_text[i + seq_length]\n",
    "\n",
    "    dataX.append([char_to_int[char] for char in seq_in])\n",
    "    dataY.append(char_to_int[seq_out])\n",
    "n_patterns = len(dataX)\n",
    "print(\"Total Patterns: \", n_patterns)\n"
   ]
  },
  {
   "cell_type": "code",
   "execution_count": 10,
   "metadata": {},
   "outputs": [],
   "source": [
    "# reshape X to be [samples, time steps, features]\n",
    "X = numpy.reshape(dataX, (n_patterns, seq_length, 1))\n",
    "\n",
    "# normalise\n",
    "X = X / X.max()\n",
    "\n",
    "# one hot encode the output variable\n",
    "y = np_utils.to_categorical(dataY)"
   ]
  },
  {
   "cell_type": "code",
   "execution_count": 11,
   "metadata": {},
   "outputs": [
    {
     "name": "stdout",
     "output_type": "stream",
     "text": [
      "(138836, 100, 1)\n",
      "(138836, 46)\n"
     ]
    }
   ],
   "source": [
    "#X = np_utils.to_categorical(X)\n",
    "print(X.shape)\n",
    "print(y.shape)"
   ]
  },
  {
   "cell_type": "code",
   "execution_count": 12,
   "metadata": {},
   "outputs": [
    {
     "name": "stdout",
     "output_type": "stream",
     "text": [
      "Original y data: \n",
      "33\n",
      "One hot encoded y data:\n",
      "[ 0.  0.  0.  0.  0.  0.  0.  0.  0.  0.  0.  0.  0.  0.  0.  0.  0.  0.\n",
      "  0.  0.  0.  0.  0.  0.  0.  0.  0.  0.  0.  0.  0.  0.  0.  1.  0.  0.\n",
      "  0.  0.  0.  0.  0.  0.  0.  0.  0.  0.]\n"
     ]
    }
   ],
   "source": [
    "print(\"Original y data: \")\n",
    "print(dataY[1])\n",
    "print(\"One hot encoded y data:\")\n",
    "print(y[1])"
   ]
  },
  {
   "cell_type": "code",
   "execution_count": 13,
   "metadata": {},
   "outputs": [],
   "source": [
    "#X = np_utils.to_categorical(X)\n",
    "#X"
   ]
  },
  {
   "cell_type": "markdown",
   "metadata": {},
   "source": [
    "### Define and train the LSTM model"
   ]
  },
  {
   "cell_type": "code",
   "execution_count": 14,
   "metadata": {},
   "outputs": [
    {
     "name": "stdout",
     "output_type": "stream",
     "text": [
      "_________________________________________________________________\n",
      "Layer (type)                 Output Shape              Param #   \n",
      "=================================================================\n",
      "lstm_1 (LSTM)                (None, 100, 512)          1052672   \n",
      "_________________________________________________________________\n",
      "dropout_1 (Dropout)          (None, 100, 512)          0         \n",
      "_________________________________________________________________\n",
      "lstm_2 (LSTM)                (None, 256)               787456    \n",
      "_________________________________________________________________\n",
      "dropout_2 (Dropout)          (None, 256)               0         \n",
      "_________________________________________________________________\n",
      "dense_1 (Dense)              (None, 46)                11822     \n",
      "=================================================================\n",
      "Total params: 1,851,950\n",
      "Trainable params: 1,851,950\n",
      "Non-trainable params: 0\n",
      "_________________________________________________________________\n"
     ]
    }
   ],
   "source": [
    "# define the LSTM model\n",
    "model = Sequential()\n",
    "model.add(LSTM(512, input_shape=(X.shape[1], X.shape[2]), return_sequences=True))\n",
    "model.add(Dropout(0.2))\n",
    "model.add(LSTM(256))\n",
    "model.add(Dropout(0.2))\n",
    "model.add(Dense(y.shape[1], activation='softmax'))\n",
    "model.compile(loss='categorical_crossentropy', optimizer='adam')\n",
    "\n",
    "model.summary()"
   ]
  },
  {
   "cell_type": "code",
   "execution_count": 15,
   "metadata": {},
   "outputs": [],
   "source": [
    "# define the model and checkpoint paths\n",
    "model_path = \"Best-Model.hdf5\"\n",
    "log_path = \"log_training_path.log\"\n",
    "\n",
    "csv_logger = CSVLogger(log_path, separator=',', append=True)      # Log the training\n",
    "checkpoint = ModelCheckpoint(model_path, \n",
    "                             monitor='loss', \n",
    "                             verbose=1, \n",
    "                             save_best_only=True, \n",
    "                             mode='min')                           # save best model\n",
    "callbacks_list = [checkpoint, csv_logger]\n",
    "\n"
   ]
  },
  {
   "cell_type": "code",
   "execution_count": 17,
   "metadata": {},
   "outputs": [],
   "source": [
    "# Load the model to continue the training\n",
    "#model.load_weights(model_path)"
   ]
  },
  {
   "cell_type": "code",
   "execution_count": 18,
   "metadata": {
    "scrolled": false
   },
   "outputs": [
    {
     "name": "stdout",
     "output_type": "stream",
     "text": [
      "Epoch 81/100\n",
      "138836/138836 [==============================] - 294s 2ms/step - loss: 0.7677\n",
      "\n",
      "Epoch 00081: loss improved from inf to 0.76774, saving model to Best-Model.hdf5\n",
      "Epoch 82/100\n",
      "138836/138836 [==============================] - 292s 2ms/step - loss: 0.7575\n",
      "\n",
      "Epoch 00082: loss improved from 0.76774 to 0.75752, saving model to Best-Model.hdf5\n",
      "Epoch 83/100\n",
      "138836/138836 [==============================] - 291s 2ms/step - loss: 0.7524\n",
      "\n",
      "Epoch 00083: loss improved from 0.75752 to 0.75241, saving model to Best-Model.hdf5\n",
      "Epoch 84/100\n",
      "138836/138836 [==============================] - 291s 2ms/step - loss: 0.7437\n",
      "\n",
      "Epoch 00084: loss improved from 0.75241 to 0.74367, saving model to Best-Model.hdf5\n",
      "Epoch 85/100\n",
      "138836/138836 [==============================] - 291s 2ms/step - loss: 0.7368\n",
      "\n",
      "Epoch 00085: loss improved from 0.74367 to 0.73676, saving model to Best-Model.hdf5\n",
      "Epoch 86/100\n",
      "138836/138836 [==============================] - 291s 2ms/step - loss: 0.7277\n",
      "\n",
      "Epoch 00086: loss improved from 0.73676 to 0.72766, saving model to Best-Model.hdf5\n",
      "Epoch 87/100\n",
      "138836/138836 [==============================] - 291s 2ms/step - loss: 0.7201\n",
      "\n",
      "Epoch 00087: loss improved from 0.72766 to 0.72013, saving model to Best-Model.hdf5\n",
      "Epoch 88/100\n",
      "138836/138836 [==============================] - 291s 2ms/step - loss: 0.7174\n",
      "\n",
      "Epoch 00088: loss improved from 0.72013 to 0.71743, saving model to Best-Model.hdf5\n",
      "Epoch 89/100\n",
      "138836/138836 [==============================] - 291s 2ms/step - loss: 0.7130\n",
      "\n",
      "Epoch 00089: loss improved from 0.71743 to 0.71302, saving model to Best-Model.hdf5\n",
      "Epoch 90/100\n",
      "138836/138836 [==============================] - 291s 2ms/step - loss: 0.6986\n",
      "\n",
      "Epoch 00090: loss improved from 0.71302 to 0.69858, saving model to Best-Model.hdf5\n",
      "Epoch 91/100\n",
      "138836/138836 [==============================] - 291s 2ms/step - loss: 0.6971\n",
      "\n",
      "Epoch 00091: loss improved from 0.69858 to 0.69710, saving model to Best-Model.hdf5\n",
      "Epoch 92/100\n",
      "138836/138836 [==============================] - 291s 2ms/step - loss: 0.6903\n",
      "\n",
      "Epoch 00092: loss improved from 0.69710 to 0.69028, saving model to Best-Model.hdf5\n",
      "Epoch 93/100\n",
      "138836/138836 [==============================] - 291s 2ms/step - loss: 0.6834\n",
      "\n",
      "Epoch 00093: loss improved from 0.69028 to 0.68340, saving model to Best-Model.hdf5\n",
      "Epoch 94/100\n",
      "138836/138836 [==============================] - 291s 2ms/step - loss: 0.6818\n",
      "\n",
      "Epoch 00094: loss improved from 0.68340 to 0.68182, saving model to Best-Model.hdf5\n",
      "Epoch 95/100\n",
      "138836/138836 [==============================] - 291s 2ms/step - loss: 0.6717\n",
      "\n",
      "Epoch 00095: loss improved from 0.68182 to 0.67172, saving model to Best-Model.hdf5\n",
      "Epoch 96/100\n",
      "138836/138836 [==============================] - 291s 2ms/step - loss: 0.6621\n",
      "\n",
      "Epoch 00096: loss improved from 0.67172 to 0.66205, saving model to Best-Model.hdf5\n",
      "Epoch 97/100\n",
      "138836/138836 [==============================] - 291s 2ms/step - loss: 0.6606\n",
      "\n",
      "Epoch 00097: loss improved from 0.66205 to 0.66064, saving model to Best-Model.hdf5\n",
      "Epoch 98/100\n",
      "138836/138836 [==============================] - 291s 2ms/step - loss: 0.6503\n",
      "\n",
      "Epoch 00098: loss improved from 0.66064 to 0.65028, saving model to Best-Model.hdf5\n",
      "Epoch 99/100\n",
      "138836/138836 [==============================] - 291s 2ms/step - loss: 0.6428\n",
      "\n",
      "Epoch 00099: loss improved from 0.65028 to 0.64281, saving model to Best-Model.hdf5\n",
      "Epoch 100/100\n",
      "138836/138836 [==============================] - 291s 2ms/step - loss: 0.6482\n",
      "\n",
      "Epoch 00100: loss did not improve from 0.64281\n"
     ]
    },
    {
     "data": {
      "text/plain": [
       "<keras.callbacks.History at 0x7f4fbdf884a8>"
      ]
     },
     "execution_count": 18,
     "metadata": {},
     "output_type": "execute_result"
    }
   ],
   "source": [
    "# Train the model\n",
    "model.fit(X, y, \n",
    "          epochs=100, \n",
    "          batch_size=256, \n",
    "          callbacks=callbacks_list, \n",
    "          initial_epoch=80)            # start from this epoch (continue to train a trained model)\n",
    "\n"
   ]
  },
  {
   "cell_type": "markdown",
   "metadata": {},
   "source": [
    "### Plot the training error and load the best model "
   ]
  },
  {
   "cell_type": "code",
   "execution_count": 17,
   "metadata": {},
   "outputs": [
    {
     "data": {
      "image/png": "[encoded data removed]",
      "text/plain": [
       "<matplotlib.figure.Figure at 0x12f697710>"
      ]
     },
     "metadata": {},
     "output_type": "display_data"
    }
   ],
   "source": [
    "# Load the training history from file\n",
    "log_path = \"log_training_path(epoch 100).log\"\n",
    "log_data = pd.read_csv(log_path, sep=',', engine='python')\n",
    "log_data = log_data.iloc[1:, :]\n",
    "\n",
    "# Plot for the Error\n",
    "plt.figure(figsize=(10,5))\n",
    "plt.plot(log_data['loss'])\n",
    "plt.title(\"Training Loss\", fontsize=20)\n",
    "plt.ylabel(\"MSE\", fontsize=17)\n",
    "plt.xlabel(\"Epochs\", fontsize=17)\n",
    "plt.xticks(fontsize=14)\n",
    "plt.yticks(fontsize=14)\n",
    "plt.autoscale(enable=True, axis=\"x\", tight=True)\n",
    "plt.show()"
   ]
  },
  {
   "cell_type": "markdown",
   "metadata": {},
   "source": [
    "## Trained for 50 epochs"
   ]
  },
  {
   "cell_type": "code",
   "execution_count": 20,
   "metadata": {},
   "outputs": [],
   "source": [
    "# Load the best model\n",
    "model_path50 = \"Best-Model(epoch 50).hdf5\"\n",
    "model.load_weights(model_path50)\n",
    "#model.compile(loss='categorical_crossentropy', optimizer='adam')\n"
   ]
  },
  {
   "cell_type": "code",
   "execution_count": 21,
   "metadata": {},
   "outputs": [
    {
     "name": "stdout",
     "output_type": "stream",
     "text": [
      "Seed:\n",
      "\"  alice loudly ‘the idea of having the sentence first!’ ‘hold your tongue! said the queen turning pur \"\n"
     ]
    }
   ],
   "source": [
    "# pick a random sentence to feed the model\n",
    "start = numpy.random.randint(0, len(dataX)-1)\n",
    "pattern = dataX[start]\n",
    "print(\"Seed:\")\n",
    "print(\"\\\"\", ''.join([int_to_char[value] for value in pattern]), \"\\\"\")"
   ]
  },
  {
   "cell_type": "code",
   "execution_count": 22,
   "metadata": {},
   "outputs": [
    {
     "name": "stdout",
     "output_type": "stream",
     "text": [
      " on her hands and she was suite suite frrwne it was anice and the had not the had fot its nenge ouer the had been wandering the had forgettenid large of the look and the trees all cook htok on the same as he spoke and the tabbit semling in a soeailn woice and the thought in a low to change to the sattere of the tood whet she was so the bll and said and seemed to her that she had not to the bootarsed one of the little golden key and she taid to the tatt of the table but the rat tfem ani alice was spon and semeated her on the tame as he spoke and the tabbit semling in a soeailn woice and the thought in a low to change to the sattere of the tood whet she was so the bll and said and seemed to her that she had not to the bootarsed one of the little golden key and she taid to the tatt of the table but the rat tfem ani alice was spon and semeated her on the tame as he spoke and the tabbit semling in a soeailn woice and the thought in a low to change to the sattere of the tood whet she was so "
     ]
    }
   ],
   "source": [
    "# Generate characters\n",
    "for i in range(1000):\n",
    "    x = numpy.reshape(pattern, (1, len(pattern), 1))\n",
    "    x = x / float(n_vocab)\n",
    "    prediction = model.predict(x, verbose=0)\n",
    "    index = numpy.argmax(prediction)\n",
    "    result = int_to_char[index]\n",
    "    seq_in = [int_to_char[value] for value in pattern]\n",
    "    sys.stdout.write(result)\n",
    "    pattern.append(index)\n",
    "    pattern = pattern[1:len(pattern)]\n"
   ]
  },
  {
   "cell_type": "markdown",
   "metadata": {},
   "source": [
    "---\n",
    "\n",
    "After 50 epoch we can note that the model has already learned to understand how to use spaces, how to form shorter words, such as _it_, _was_, _the_, _her_. Many errors are still made though with made up words such as _bootarsed_, _semeated_, _soeailn_, nor are commas or apostrophes used. Overall however, it's impressive to see how well the LSTM network does its predictions. For being a Recurrent Neural Network (RNN) 1.8 million parameters is pretty small, but our model is already doing impressive predictions. Let's continue the training!\n",
    "\n",
    "---"
   ]
  },
  {
   "cell_type": "markdown",
   "metadata": {},
   "source": [
    "## Trained for 100 epochs"
   ]
  },
  {
   "cell_type": "code",
   "execution_count": 16,
   "metadata": {},
   "outputs": [],
   "source": [
    "# Load the best model\n",
    "model_path = \"Best-Model(epoch 100).hdf5\"\n",
    "model.load_weights(model_path)\n",
    "#model.compile(loss='categorical_crossentropy', optimizer='adam')\n"
   ]
  },
  {
   "cell_type": "code",
   "execution_count": 18,
   "metadata": {},
   "outputs": [
    {
     "name": "stdout",
     "output_type": "stream",
     "text": [
      "Seed:\n",
      "\" r. ‘yes! shouted alice. ‘come on then! roared the queen and alice joined the procession, wondering v \"\n"
     ]
    }
   ],
   "source": [
    "# pick a random sentence to feed the model\n",
    "start = numpy.random.randint(0, len(dataX)-1)\n",
    "pattern = dataX[start]\n",
    "print(\"Seed:\")\n",
    "print(\"\\\"\", ''.join([int_to_char[value] for value in pattern]), \"\\\"\")"
   ]
  },
  {
   "cell_type": "code",
   "execution_count": 19,
   "metadata": {},
   "outputs": [
    {
     "name": "stdout",
     "output_type": "stream",
     "text": [
      "ery much at would soop ready to say that had to sale  the katter was the first to speak foo some time without a pinute or two the caby was sneezing on the tou of hos that was good and the fardep who was penting at the more of the list of singers and was going to she went on grrwing it was a good deal of the thar cut there was nothing on it exttaering it was a good deal worse the found herself uastirgsaly ‘what are you thinking of you anl lefr i get ost a large datt of mooking all the brchess i have ordered in anything mike the mock turtle in another minute the queen’s hen and the mobk turtle interrupted ‘if you con’t explain it as you go on it’s by fir she farceeff---wale wiete was a largry good oe course i wes a different pight to be liston seem to thin you than’s all what are you’re gring to dr the too of things--they were lnok at the bnttom of the bread-- cread the made of anarpec as her sime she hot tweden spund her head and she had a venu that woieen foowes and when the had put th"
     ]
    }
   ],
   "source": [
    "# Generate characters\n",
    "for i in range(1000):\n",
    "    x = numpy.reshape(pattern, (1, len(pattern), 1))\n",
    "    x = x / float(n_vocab)\n",
    "    prediction = model.predict(x, verbose=0)\n",
    "    index = numpy.argmax(prediction)\n",
    "    result = int_to_char[index]\n",
    "    seq_in = [int_to_char[value] for value in pattern]\n",
    "    sys.stdout.write(result)\n",
    "    pattern.append(index)\n",
    "    pattern = pattern[1:len(pattern)]\n"
   ]
  },
  {
   "cell_type": "markdown",
   "metadata": {},
   "source": [
    "---\n",
    "\n",
    "After 100 training epochs we can see from the graph above that there's still room for some improvement. The MSE curve should eventually flatten out when the model converges, but this hasn't happened yet. However, due to hardware restrictions I won't continue training (this model was trained in the cloud for a cost). We can now see an overall improvement on the predictions. Not only the majority of the shortest words are correctly predicted, but also more complicated words such as _sneezing_, _herself_, _another_ and _ordered_ are spelled in a correct way. Also, the sentences are more plausible and makes overall more sense than before, such as: _i have ordered in anything mike_.\n",
    "\n",
    "Several improvements can still be made though as commas are scarcely used, words are still misspelled, dashes are used three in a row etc, etc. Some suggestions to improve the results are:\n",
    "\n",
    "- Train the model for (up to) several hundred epochs more.\n",
    "- Create a deeper LSTM network (more powerful hardware should be used for this though).\n",
    "- Change the batch size.\n",
    "- Chose a different input length (*seq_length*) when feeding the network during training. E.g. a larger would allow the network to consider more data before each prediction, while a shorter would allow more iterations over the data set during each epoch."
   ]
  },
  {
   "cell_type": "code",
   "execution_count": null,
   "metadata": {},
   "outputs": [],
   "source": []
  },
  {
   "cell_type": "code",
   "execution_count": null,
   "metadata": {},
   "outputs": [],
   "source": []
  },
  {
   "cell_type": "code",
   "execution_count": null,
   "metadata": {},
   "outputs": [],
   "source": []
  },
  {
   "cell_type": "code",
   "execution_count": null,
   "metadata": {},
   "outputs": [],
   "source": []
  },
  {
   "cell_type": "code",
   "execution_count": null,
   "metadata": {},
   "outputs": [],
   "source": []
  }
 ],
 "metadata": {
  "kernelspec": {
   "display_name": "Python 3",
   "language": "python",
   "name": "python3"
  },
  "language_info": {
   "codemirror_mode": {
    "name": "ipython",
    "version": 3
   },
   "file_extension": ".py",
   "mimetype": "text/x-python",
   "name": "python",
   "nbconvert_exporter": "python",
   "pygments_lexer": "ipython3",
   "version": "3.5.4"
  }
 },
 "nbformat": 4,
 "nbformat_minor": 2
}
